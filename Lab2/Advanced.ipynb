{
 "cells": [
  {
   "cell_type": "code",
   "execution_count": 9,
   "metadata": {},
   "outputs": [],
   "source": [
    "import math\n",
    "\n",
    "class Point():\n",
    "    def __init__(self,x,y):\n",
    "        self.x = x\n",
    "        self.y = y\n",
    "        \n",
    "    def opposite(self,x,y):\n",
    "        x = -x \n",
    "        y = -y\n",
    "        return x,y\n",
    "    \n",
    "    def add(self,P):\n",
    "        return self.x+P.x , self.y+P.y\n",
    "    \n",
    "    def distance(self,P):\n",
    "        return math.sqrt((self.x-P.x)**2 + (self.y-P.y)**2)\n",
    "    \n",
    "    def rotate(self,P,angle):\n",
    "        return math.cos(angle)* P.distance(self) , math.sin(angle)* P.distance(self)\n",
    "    \n",
    "    def aligned(self,B,C):\n",
    "        if (self.x-B.x)/(self.x-C.x) == (self.y-B.y)/(self.y-C.y):\n",
    "            return \"Aligned\""
   ]
  },
  {
   "cell_type": "code",
   "execution_count": 10,
   "metadata": {},
   "outputs": [],
   "source": [
    "class Rectangle():\n",
    "    def __init__(self,A,D):\n",
    "        self.A = Point(A.x,A.y) #self.A = A\n",
    "        self.D = Point(D.x,D.y) #self.D = D\n",
    "        \n",
    "    def opposite(self,A,D):\n",
    "        return A.opposite(A.x,A.y), D.opposite(D.x,D.y)\n",
    "    \n",
    "    def milieu(self):\n",
    "        X = self.D.x-self.A.x/2\n",
    "        Y = self.A.y-self.D.y/2\n",
    "        return  Point(X,Y)\n",
    "    \n",
    "    def distance(self,R):\n",
    "        return self.milieu().distance(R.milieu())\n",
    "    \n",
    "    def zoom(self,fac):\n",
    "        return self.A.x*fac, self.A.y*2 , self.D.x*fac, self.D.y*2\n",
    "    "
   ]
  },
  {
   "cell_type": "code",
   "execution_count": 11,
   "metadata": {},
   "outputs": [],
   "source": [
    "a = Point(2,3)\n",
    "d = Point(6,8)\n",
    "c = Point(10,1)\n",
    "d = Point(0,5)\n",
    "r = Rectangle(a,d)"
   ]
  },
  {
   "cell_type": "code",
   "execution_count": 12,
   "metadata": {},
   "outputs": [
    {
     "data": {
      "text/plain": [
       "((-2, -3), (0, -5))"
      ]
     },
     "execution_count": 12,
     "metadata": {},
     "output_type": "execute_result"
    }
   ],
   "source": [
    "r.opposite(a,d)"
   ]
  },
  {
   "cell_type": "code",
   "execution_count": 13,
   "metadata": {},
   "outputs": [
    {
     "data": {
      "text/plain": [
       "4.47213595499958"
      ]
     },
     "execution_count": 13,
     "metadata": {},
     "output_type": "execute_result"
    }
   ],
   "source": [
    "rec = Rectangle(c,d)\n",
    "rec.distance(r)"
   ]
  },
  {
   "cell_type": "code",
   "execution_count": 14,
   "metadata": {},
   "outputs": [
    {
     "data": {
      "text/plain": [
       "(20, 2, 0, 10)"
      ]
     },
     "execution_count": 14,
     "metadata": {},
     "output_type": "execute_result"
    }
   ],
   "source": [
    "rec.zoom(2)"
   ]
  },
  {
   "cell_type": "code",
   "execution_count": null,
   "metadata": {},
   "outputs": [],
   "source": []
  },
  {
   "cell_type": "code",
   "execution_count": 32,
   "metadata": {},
   "outputs": [],
   "source": [
    "class Polygon():\n",
    "\n",
    "    def __init__(self):\n",
    "        self.points = []\n",
    "        \n",
    "    def add_point(self,point):\n",
    "        self.points.append(point)\n",
    "            \n",
    "    def rotate(self,P,angle):\n",
    "        for i in len(P.points):\n",
    "            j= rotate(self.b,P,angle)\n",
    "            newl.append(j)\n",
    "        \n",
    "        return Polygone(newl)      "
   ]
  },
  {
   "cell_type": "code",
   "execution_count": 36,
   "metadata": {},
   "outputs": [],
   "source": [
    "a = Point(5,4)\n",
    "b = Point(4,8)\n",
    "c = Point(1,5)\n",
    "d = Point(3,5)\n",
    "e = Point(2,6)\n",
    "f = Point(6,9)\n",
    "g = Point(12,3)\n",
    "h = Point(5,7)\n",
    "poly = Polygon()\n",
    "\n",
    "for i in {a,b,b,c,d,e,f,g,h}:\n",
    "    poly.add_point(i)\n",
    "    "
   ]
  },
  {
   "cell_type": "code",
   "execution_count": null,
   "metadata": {},
   "outputs": [],
   "source": []
  }
 ],
 "metadata": {
  "kernelspec": {
   "display_name": "Python 3",
   "language": "python",
   "name": "python3"
  },
  "language_info": {
   "codemirror_mode": {
    "name": "ipython",
    "version": 3
   },
   "file_extension": ".py",
   "mimetype": "text/x-python",
   "name": "python",
   "nbconvert_exporter": "python",
   "pygments_lexer": "ipython3",
   "version": "3.5.2"
  }
 },
 "nbformat": 4,
 "nbformat_minor": 2
}
