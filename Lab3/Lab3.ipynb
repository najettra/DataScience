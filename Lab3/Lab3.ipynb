{
 "cells": [
  {
   "cell_type": "code",
   "execution_count": 1,
   "metadata": {},
   "outputs": [],
   "source": [
    "import requests\n",
    "import json\n",
    "import sys\n",
    "r = requests.get(\"http://api.openweathermap.org/najettra\", auth=('najettra', '0fc8b7810833cce91426465e82166b01'))"
   ]
  },
  {
   "cell_type": "code",
   "execution_count": 2,
   "metadata": {},
   "outputs": [
    {
     "data": {
      "text/plain": [
       "404"
      ]
     },
     "execution_count": 2,
     "metadata": {},
     "output_type": "execute_result"
    }
   ],
   "source": [
    "r.status_code"
   ]
  },
  {
   "cell_type": "code",
   "execution_count": 3,
   "metadata": {},
   "outputs": [
    {
     "data": {
      "text/plain": [
       "'<html>\\r\\n<head><title>404 Not Found</title></head>\\r\\n<body bgcolor=\"white\">\\r\\n<center><h1>404 Not Found</h1></center>\\r\\n<hr><center>nginx</center>\\r\\n</body>\\r\\n</html>\\r\\n'"
      ]
     },
     "execution_count": 3,
     "metadata": {},
     "output_type": "execute_result"
    }
   ],
   "source": [
    "r.text"
   ]
  },
  {
   "cell_type": "code",
   "execution_count": 4,
   "metadata": {},
   "outputs": [],
   "source": [
    "req = requests.get(\"https://news.google.com/\")"
   ]
  },
  {
   "cell_type": "code",
   "execution_count": null,
   "metadata": {
    "scrolled": false
   },
   "outputs": [],
   "source": []
  },
  {
   "cell_type": "code",
   "execution_count": 5,
   "metadata": {},
   "outputs": [],
   "source": [
    "req_tunis = requests.get(\"http://api.openweathermap.org/data/2.5/forecast/daily?q=Tunis&mode=xml&units=metric&cnt=7\")"
   ]
  },
  {
   "cell_type": "code",
   "execution_count": 6,
   "metadata": {},
   "outputs": [],
   "source": [
    "class Weather():\n",
    "    def __init__(self):\n",
    "        self.key = \"02d8b3dee3fe9b20e3828ab1892e98a8\"\n",
    "        \n",
    "    def Get_City_Weather(self, city_name):\n",
    "        req = requests.get(\"http://api.openweathermap.org/data/2.5/forecast/?q=\"+city_name+\"&appid=\"+self.key)     \n",
    "        return req.json()\n",
    "                        \n",
    "    def Show_Data(self,city_name):\n",
    "        data = self.Get_City_Weather(city_name)\n",
    "        return json.dumps(data['city']['name']), json.dumps(data['list'][0]['main']['temp'])"
   ]
  },
  {
   "cell_type": "code",
   "execution_count": 7,
   "metadata": {},
   "outputs": [],
   "source": [
    "key = \"02d8b3dee3fe9b20e3828ab1892e98a8\"\n",
    "weath = Weather()"
   ]
  },
  {
   "cell_type": "code",
   "execution_count": 8,
   "metadata": {},
   "outputs": [],
   "source": [
    "#weath.Get_City_Weather(\"Tunis\")"
   ]
  },
  {
   "cell_type": "code",
   "execution_count": 9,
   "metadata": {},
   "outputs": [
    {
     "data": {
      "text/plain": [
       "('\"Tunis\"', '300.42')"
      ]
     },
     "execution_count": 9,
     "metadata": {},
     "output_type": "execute_result"
    }
   ],
   "source": [
    "weath.Show_Data(\"Tunis\")"
   ]
  },
  {
   "cell_type": "code",
   "execution_count": 11,
   "metadata": {},
   "outputs": [],
   "source": [
    "sys.argv[1] = 'Tunis'"
   ]
  },
  {
   "cell_type": "code",
   "execution_count": 12,
   "metadata": {
    "scrolled": true
   },
   "outputs": [
    {
     "name": "stdout",
     "output_type": "stream",
     "text": [
      "Tunis\n",
      "('\"Tunis\"', '300.42')\n"
     ]
    }
   ],
   "source": [
    "weather = Weather()\n",
    "if sys.argv[1]:\n",
    "    name = sys.argv[1]\n",
    "    print(name)\n",
    "    print(weather.Show_Data(name))\n",
    "else:\n",
    "       print(\"Please enter city name\")"
   ]
  },
  {
   "cell_type": "code",
   "execution_count": null,
   "metadata": {},
   "outputs": [],
   "source": []
  }
 ],
 "metadata": {
  "kernelspec": {
   "display_name": "venv",
   "language": "python",
   "name": "venv"
  },
  "language_info": {
   "codemirror_mode": {
    "name": "ipython",
    "version": 3
   },
   "file_extension": ".py",
   "mimetype": "text/x-python",
   "name": "python",
   "nbconvert_exporter": "python",
   "pygments_lexer": "ipython3",
   "version": "3.5.2"
  }
 },
 "nbformat": 4,
 "nbformat_minor": 2
}
