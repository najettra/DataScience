{
 "cells": [
  {
   "cell_type": "code",
   "execution_count": 218,
   "metadata": {},
   "outputs": [],
   "source": [
    "import numpy as np\n",
    "import scipy as sp\n",
    "import scipy.integrate as scint\n",
    "import matplotlib.pyplot as plt"
   ]
  },
  {
   "cell_type": "code",
   "execution_count": 219,
   "metadata": {},
   "outputs": [
    {
     "data": {
      "text/plain": [
       "array([0., 0., 0., 0., 0.])"
      ]
     },
     "execution_count": 219,
     "metadata": {},
     "output_type": "execute_result"
    }
   ],
   "source": [
    "np.zeros(5)"
   ]
  },
  {
   "cell_type": "code",
   "execution_count": 220,
   "metadata": {},
   "outputs": [
    {
     "data": {
      "text/plain": [
       "array([1., 1., 1., 1., 1.])"
      ]
     },
     "execution_count": 220,
     "metadata": {},
     "output_type": "execute_result"
    }
   ],
   "source": [
    "np.ones(5)"
   ]
  },
  {
   "cell_type": "code",
   "execution_count": 221,
   "metadata": {},
   "outputs": [
    {
     "data": {
      "text/plain": [
       "array([0.33400289, 0.93017543])"
      ]
     },
     "execution_count": 221,
     "metadata": {},
     "output_type": "execute_result"
    }
   ],
   "source": [
    "np.random.random(2)"
   ]
  },
  {
   "cell_type": "code",
   "execution_count": 222,
   "metadata": {},
   "outputs": [
    {
     "name": "stdout",
     "output_type": "stream",
     "text": [
      "[ 1.2246468e-16 -2.4492936e-16  3.6739404e-16 -4.8985872e-16]\n"
     ]
    }
   ],
   "source": [
    "v = np.array([1,2,3,4])*np.pi\n",
    "w = np.sin(v)\n",
    "print(w)"
   ]
  },
  {
   "cell_type": "code",
   "execution_count": 223,
   "metadata": {},
   "outputs": [],
   "source": [
    "def f(x):\n",
    "    return x**2"
   ]
  },
  {
   "cell_type": "code",
   "execution_count": 224,
   "metadata": {},
   "outputs": [],
   "source": [
    "def g(x):\n",
    "    return 2*x"
   ]
  },
  {
   "cell_type": "code",
   "execution_count": 225,
   "metadata": {},
   "outputs": [],
   "source": [
    "def somme_ponderee(f1,f2,a,b,x):\n",
    "    return a*f1(x) + b*f2(x)"
   ]
  },
  {
   "cell_type": "code",
   "execution_count": 226,
   "metadata": {},
   "outputs": [
    {
     "name": "stdout",
     "output_type": "stream",
     "text": [
      "260\n"
     ]
    }
   ],
   "source": [
    "print(somme_ponderee(f,g,2,3,10))"
   ]
  },
  {
   "cell_type": "code",
   "execution_count": null,
   "metadata": {},
   "outputs": [],
   "source": []
  },
  {
   "cell_type": "code",
   "execution_count": 248,
   "metadata": {},
   "outputs": [
    {
     "name": "stdout",
     "output_type": "stream",
     "text": [
      "100\n",
      "0.1\n"
     ]
    }
   ],
   "source": [
    "N = 100\n",
    "a,b = 0,10\n",
    "h = (b - a)/ N\n",
    "n = [i for i in range(0,N)]\n",
    "xn = [ a + n*h for n in range(0,N)]\n",
    "\n",
    "print(len(xn))\n",
    "print(h)\n",
    "l = 1/2\n",
    "\n",
    "def p(y,l):\n",
    "    return l*y"
   ]
  },
  {
   "cell_type": "code",
   "execution_count": 254,
   "metadata": {},
   "outputs": [
    {
     "name": "stdout",
     "output_type": "stream",
     "text": [
      "100\n",
      "100\n"
     ]
    },
    {
     "data": {
      "image/png": "[encoded data removed]",
      "text/plain": [
       "<matplotlib.figure.Figure at 0x7fd1f5759588>"
      ]
     },
     "metadata": {},
     "output_type": "display_data"
    }
   ],
   "source": [
    "def euler(f,a,b,y0,N):\n",
    "    yn=[]\n",
    "    xn=[]\n",
    "    l=1\n",
    "    yn.append(y0)\n",
    "    xn.append(a)\n",
    "    for n in range(1,N):\n",
    "        y = yn[n-1] + h*f(yn[n-1],xn[n-1])\n",
    "        yn.append(y)\n",
    "        xn.append(xn[-1] + h)\n",
    "    return yn\n",
    "\n",
    "\n",
    "yn = euler(p,0,10,1,100)\n",
    "\n",
    "print(len(yn))\n",
    "print(len(xn))\n",
    "plt.plot(xn,yn)\n",
    "plt.show()"
   ]
  },
  {
   "cell_type": "code",
   "execution_count": null,
   "metadata": {},
   "outputs": [],
   "source": []
  },
  {
   "cell_type": "code",
   "execution_count": 243,
   "metadata": {},
   "outputs": [],
   "source": [
    "def f(y,x):\n",
    "    return np.cos(10*y)*np.cos(x)"
   ]
  },
  {
   "cell_type": "code",
   "execution_count": 250,
   "metadata": {},
   "outputs": [],
   "source": [
    "x = np.linspace(0,10,100)\n",
    "y = scint.odeint(f,0,x)\n",
    "#print(y)"
   ]
  },
  {
   "cell_type": "code",
   "execution_count": 235,
   "metadata": {},
   "outputs": [
    {
     "data": {
      "image/png": "[encoded data removed]",
      "text/plain": [
       "<matplotlib.figure.Figure at 0x7fd1f59c6160>"
      ]
     },
     "metadata": {},
     "output_type": "display_data"
    }
   ],
   "source": [
    "plt.plot(x,y)\n",
    "plt.show()"
   ]
  },
  {
   "cell_type": "code",
   "execution_count": 251,
   "metadata": {},
   "outputs": [
    {
     "name": "stdout",
     "output_type": "stream",
     "text": [
      "[1, 0.9160928470923547, 0.8200358224395609, 0.786763362654859, 0.7854591785018418, 0.785402979872627, 0.785398753018002, 0.7853982663831598, 0.785398187615343, 0.7853981707425732, 0.7853981661767704, 0.7853981646750963, 0.7853981640955601, 0.7853981638425939, 0.7853981637235179, 0.7853981636680968, 0.7853981636489519, 0.7853981636562957, 0.7853981636896468, 0.7853981637560349, 0.7853981638719622, 0.7853981640694295, 0.7853981644086766, 0.7853981650037856, 0.7853981660740496, 0.7853981680477585, 0.7853981717733249, 0.7853981789505194, 0.7853981930116178, 0.78539822091475, 0.7853982767616436, 0.7853983889913464, 0.7853986143901397, 0.7853990646137874, 0.7853999545466905, 0.7854016862265405, 0.7854049852034014, 0.7854111027152997, 0.7854220765511492, 0.7854409910834362, 0.7854720810832586, 0.7855203969026577, 0.7855906596310241, 0.7856850329343189, 0.7858000098494927, 0.7859235101405079, 0.7860342505178021, 0.7861055888146323, 0.7861143527969515, 0.7860516874882605, 0.7859297980292498, 0.7857789940981028, 0.7856350489174585, 0.7855240642059421, 0.7854542680472479, 0.785418658827581, 0.7854041343358366, 0.7853995034797627, 0.7853983848959222, 0.7853981887547006, 0.785398165236396, 0.7853981634706931, 0.7853981633986737, 0.7853981633974525, 0.7853981633974483, 0.7853981633974483, 0.7853981633974483, 0.7853981633974483, 0.7853981633974483, 0.7853981633974483, 0.7853981633974483, 0.7853981633974483, 0.7853981633974483, 0.7853981633974483, 0.7853981633974483, 0.7853981633974483, 0.7853981633974483, 0.7853981633974483, 0.7853981633974483, 0.7853981633974483, 0.7853981633974483, 0.7853981633974483, 0.7853981633974483, 0.7853981633974483, 0.7853981633974483, 0.7853981633974483, 0.7853981633974483, 0.7853981633974483, 0.7853981633974483, 0.7853981633974483, 0.7853981633974483, 0.7853981633974483, 0.7853981633974483, 0.7853981633974483, 0.7853981633974483, 0.7853981633974483, 0.7853981633974483, 0.7853981633974483, 0.7853981633974483, 0.7853981633974483]\n"
     ]
    },
    {
     "data": {
      "image/png": "[encoded data removed]",
      "text/plain": [
       "<matplotlib.figure.Figure at 0x7fd1f59d0eb8>"
      ]
     },
     "metadata": {},
     "output_type": "display_data"
    }
   ],
   "source": [
    "y = euler(f,a,b,1,100)\n",
    "print(y)\n",
    "plt.plot(x,y)\n",
    "plt.show()"
   ]
  },
  {
   "cell_type": "code",
   "execution_count": null,
   "metadata": {},
   "outputs": [],
   "source": []
  },
  {
   "cell_type": "code",
   "execution_count": null,
   "metadata": {},
   "outputs": [],
   "source": []
  }
 ],
 "metadata": {
  "kernelspec": {
   "display_name": "Python 3",
   "language": "python",
   "name": "python3"
  },
  "language_info": {
   "codemirror_mode": {
    "name": "ipython",
    "version": 3
   },
   "file_extension": ".py",
   "mimetype": "text/x-python",
   "name": "python",
   "nbconvert_exporter": "python",
   "pygments_lexer": "ipython3",
   "version": "3.5.2"
  }
 },
 "nbformat": 4,
 "nbformat_minor": 2
}
