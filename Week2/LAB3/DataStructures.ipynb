{
 "cells": [
  {
   "cell_type": "code",
   "execution_count": 1,
   "metadata": {},
   "outputs": [],
   "source": [
    "import ast"
   ]
  },
  {
   "cell_type": "code",
   "execution_count": 2,
   "metadata": {},
   "outputs": [],
   "source": [
    "def generer_cellule(val, succ=None):  \n",
    "    return  {'valeur': val , 'succ': succ}\n",
    "\n",
    "# retourne la cellule à l’index spécifié par le paramètre position\n",
    "def element(l,pos):\n",
    "    \n",
    "    c=l\n",
    "    for i in range(pos):\n",
    "        s='{[succ]}'.format(c)\n",
    "        c=ast.literal_eval(s)\n",
    "    if c is None:\n",
    "        print('position non existant')\n",
    "    return c\n",
    "\n",
    "# ajout cellule en tete de liste chainee\n",
    "def ajout(liste,cellule):\n",
    "    cellule['succ'] = liste\n",
    "    \n",
    "#ajout d'une cellule à la position p de la liste\n",
    "def insertion(liste,cellule,position):\n",
    "    \n",
    "    if position > 0 :\n",
    "        cellule2=element(liste,position)\n",
    "        cellule['succ']=cellule2\n",
    "        #print(cellule2,cellule)\n",
    "\n",
    "        for i in range(0,position):\n",
    "        \n",
    "            cellule1=element(liste,position-1-i)\n",
    "            cellule1['succ']=cellule\n",
    "            tmp_cellule=cellule1\n",
    "            cellule=tmp_cellule\n",
    "            \n",
    "#suppression d'une cellule à la position p        \n",
    "def suppression(liste,position):\n",
    "    if position==0:\n",
    "        cellule=liste\n",
    "        cellule2=element(liste,position+1)\n",
    "        liste=cellule2\n",
    "        return cellule\n",
    "    \n",
    "    cellule=element(liste,position)\n",
    "    #print(cellule)\n",
    "    cellule1=element(liste,position-1)\n",
    "    cellule2=element(liste,position+1)\n",
    "    cellule1['succ']=cellule2\n",
    "    \n",
    "    for i in range(0,position):\n",
    "        cellule1=element(liste,position-i-1)\n",
    "        cellule1['succ']=cellule2\n",
    "        cellule2=cellule1\n",
    "        \n",
    "        #print(cellule1)\n",
    "    return cellule\n",
    "\n",
    "#recherche d'un element dans une liste chainee\n",
    "def recherche(liste, valeur):\n",
    "    i=0\n",
    "    if liste['valeur']== valeur:\n",
    "        return valeur,i\n",
    "    else:\n",
    "        while liste is not None and liste['succ'] is not None:\n",
    "            i+=1\n",
    "            if liste['succ']['valeur']== valeur:\n",
    "                return valeur,i\n",
    "            else:\n",
    "                liste=liste['succ']\n",
    "    \n",
    "        return None\n",
    "    \n",
    "#recherche valeur max dans une liste et l'inserer à la tete de liste\n",
    "def mini_tri(liste):\n",
    "    i=0\n",
    "    j=0\n",
    "    val=liste['valeur']\n",
    "    print(val)\n",
    "    cellule=liste\n",
    "    while cellule is not None and cellule['succ'] is not None:\n",
    "        if cellule['succ']['valeur'] > val:\n",
    "            i=j+1\n",
    "            val = cellule['succ']['valeur']\n",
    "            print('if:',val)\n",
    "        cellule=cellule['succ']\n",
    "        j+=1\n",
    "    \n",
    "    suppression(liste,i)\n",
    "    ajout(liste,cellule)\n",
    "    \n",
    "    return val,i,liste,cellule\n",
    "    "
   ]
  },
  {
   "cell_type": "code",
   "execution_count": 3,
   "metadata": {},
   "outputs": [],
   "source": [
    "A = generer_cellule('a')"
   ]
  },
  {
   "cell_type": "code",
   "execution_count": 4,
   "metadata": {},
   "outputs": [
    {
     "data": {
      "text/plain": [
       "{'succ': {'succ': None, 'valeur': 'a'}, 'valeur': 'b'}"
      ]
     },
     "execution_count": 4,
     "metadata": {},
     "output_type": "execute_result"
    }
   ],
   "source": [
    "generer_cellule('b', A)"
   ]
  },
  {
   "cell_type": "code",
   "execution_count": 5,
   "metadata": {},
   "outputs": [
    {
     "data": {
      "text/plain": [
       "{'succ': {'succ': {'succ': {'succ': None, 'valeur': 32}, 'valeur': 16},\n",
       "  'valeur': 8},\n",
       " 'valeur': 4}"
      ]
     },
     "execution_count": 5,
     "metadata": {},
     "output_type": "execute_result"
    }
   ],
   "source": [
    "c1 = generer_cellule(4)\n",
    "c2 = generer_cellule(8)\n",
    "c3 = generer_cellule(16)\n",
    "c4 = generer_cellule(32)\n",
    "\n",
    "c1['succ'] = c2\n",
    "c2['succ'] = c3\n",
    "c3['succ'] = c4\n",
    "\n",
    "c1"
   ]
  },
  {
   "cell_type": "code",
   "execution_count": 7,
   "metadata": {},
   "outputs": [],
   "source": [
    "cellule=generer_cellule(1)\n",
    "ajout(c1,cellule)\n",
    "   "
   ]
  },
  {
   "cell_type": "code",
   "execution_count": 8,
   "metadata": {},
   "outputs": [
    {
     "data": {
      "text/plain": [
       "{'succ': {'succ': {'succ': {'succ': None, 'valeur': 32}, 'valeur': 16},\n",
       "  'valeur': 8},\n",
       " 'valeur': 4}"
      ]
     },
     "execution_count": 8,
     "metadata": {},
     "output_type": "execute_result"
    }
   ],
   "source": [
    "c1"
   ]
  },
  {
   "cell_type": "code",
   "execution_count": 9,
   "metadata": {},
   "outputs": [
    {
     "data": {
      "text/plain": [
       "{'succ': {'succ': {'succ': {'succ': {'succ': None, 'valeur': 32},\n",
       "    'valeur': 16},\n",
       "   'valeur': 8},\n",
       "  'valeur': 4},\n",
       " 'valeur': 1}"
      ]
     },
     "execution_count": 9,
     "metadata": {},
     "output_type": "execute_result"
    }
   ],
   "source": [
    "cellule"
   ]
  },
  {
   "cell_type": "code",
   "execution_count": 10,
   "metadata": {},
   "outputs": [
    {
     "data": {
      "text/plain": [
       "{'succ': {'succ': {'succ': {'succ': {'succ': None, 'valeur': 32},\n",
       "    'valeur': 16},\n",
       "   'valeur': 8},\n",
       "  'valeur': 4},\n",
       " 'valeur': 1}"
      ]
     },
     "execution_count": 10,
     "metadata": {},
     "output_type": "execute_result"
    }
   ],
   "source": [
    "element(cellule,0)"
   ]
  },
  {
   "cell_type": "code",
   "execution_count": 198,
   "metadata": {},
   "outputs": [
    {
     "data": {
      "text/plain": [
       "4"
      ]
     },
     "execution_count": 198,
     "metadata": {},
     "output_type": "execute_result"
    }
   ],
   "source": []
  },
  {
   "cell_type": "code",
   "execution_count": 199,
   "metadata": {},
   "outputs": [
    {
     "name": "stdout",
     "output_type": "stream",
     "text": [
      "{'succ': {'succ': {'succ': {'succ': None, 'valeur': 32}, 'valeur': 16}, 'valeur': 8}, 'valeur': 4}\n"
     ]
    }
   ],
   "source": [
    "t=[['succ'] ]\n",
    "c=c1\n",
    "#print(c)\n",
    "for i in range(0):\n",
    "    s='{[succ]}'.format(c)\n",
    "    c=ast.literal_eval(s)\n",
    "print(c)\n",
    "    "
   ]
  },
  {
   "cell_type": "markdown",
   "metadata": {},
   "source": []
  },
  {
   "cell_type": "code",
   "execution_count": null,
   "metadata": {},
   "outputs": [],
   "source": []
  },
  {
   "cell_type": "code",
   "execution_count": 133,
   "metadata": {},
   "outputs": [
    {
     "name": "stdout",
     "output_type": "stream",
     "text": [
      "('succ', {'succ': {'succ': {'succ': None, 'valeur': 32}, 'valeur': 16}, 'valeur': 8})\n",
      "('valeur', 4)\n"
     ]
    }
   ],
   "source": [
    "for i in range(len(list(c1.items()))):\n",
    "        print((list(c1.items()))[i])\n",
    "        "
   ]
  },
  {
   "cell_type": "code",
   "execution_count": 134,
   "metadata": {},
   "outputs": [
    {
     "data": {
      "text/plain": [
       "4"
      ]
     },
     "execution_count": 134,
     "metadata": {},
     "output_type": "execute_result"
    }
   ],
   "source": [
    "list(c1.items())[1][1]"
   ]
  },
  {
   "cell_type": "code",
   "execution_count": 135,
   "metadata": {},
   "outputs": [
    {
     "data": {
      "text/plain": [
       "{'succ': {'succ': {'succ': {'succ': None, 'valeur': 32}, 'valeur': 16},\n",
       "  'valeur': 8},\n",
       " 'valeur': 4}"
      ]
     },
     "execution_count": 135,
     "metadata": {},
     "output_type": "execute_result"
    }
   ],
   "source": [
    "element(c1,0)"
   ]
  },
  {
   "cell_type": "code",
   "execution_count": 136,
   "metadata": {},
   "outputs": [
    {
     "data": {
      "text/plain": [
       "{'succ': {'succ': {'succ': None, 'valeur': 32}, 'valeur': 16}, 'valeur': 8}"
      ]
     },
     "execution_count": 136,
     "metadata": {},
     "output_type": "execute_result"
    }
   ],
   "source": [
    "element(c1,1)"
   ]
  },
  {
   "cell_type": "code",
   "execution_count": 137,
   "metadata": {},
   "outputs": [
    {
     "data": {
      "text/plain": [
       "{'succ': {'succ': None, 'valeur': 32}, 'valeur': 16}"
      ]
     },
     "execution_count": 137,
     "metadata": {},
     "output_type": "execute_result"
    }
   ],
   "source": [
    "element(c1,2)"
   ]
  },
  {
   "cell_type": "code",
   "execution_count": 138,
   "metadata": {},
   "outputs": [
    {
     "data": {
      "text/plain": [
       "{'succ': None, 'valeur': 32}"
      ]
     },
     "execution_count": 138,
     "metadata": {},
     "output_type": "execute_result"
    }
   ],
   "source": [
    "element(c1,3)"
   ]
  },
  {
   "cell_type": "code",
   "execution_count": 139,
   "metadata": {},
   "outputs": [
    {
     "name": "stdout",
     "output_type": "stream",
     "text": [
      "position non existant\n"
     ]
    }
   ],
   "source": [
    "element(c1,4)"
   ]
  },
  {
   "cell_type": "code",
   "execution_count": 195,
   "metadata": {},
   "outputs": [],
   "source": [
    "c5=generer_cellule(42)\n",
    "ajout(c1,c5)"
   ]
  },
  {
   "cell_type": "code",
   "execution_count": 15,
   "metadata": {},
   "outputs": [
    {
     "data": {
      "text/plain": [
       "{'succ': {'succ': {'succ': {'succ': None, 'valeur': 32}, 'valeur': 16},\n",
       "  'valeur': 8},\n",
       " 'valeur': 4}"
      ]
     },
     "execution_count": 15,
     "metadata": {},
     "output_type": "execute_result"
    }
   ],
   "source": [
    "suppression(cellule,1)"
   ]
  },
  {
   "cell_type": "code",
   "execution_count": 17,
   "metadata": {},
   "outputs": [
    {
     "data": {
      "text/plain": [
       "{'succ': {'succ': {'succ': {'succ': None, 'valeur': 32}, 'valeur': 16},\n",
       "  'valeur': 8},\n",
       " 'valeur': 1}"
      ]
     },
     "execution_count": 17,
     "metadata": {},
     "output_type": "execute_result"
    }
   ],
   "source": [
    "cellule"
   ]
  },
  {
   "cell_type": "code",
   "execution_count": 18,
   "metadata": {},
   "outputs": [
    {
     "data": {
      "text/plain": [
       "{'succ': None, 'valeur': 63}"
      ]
     },
     "execution_count": 18,
     "metadata": {},
     "output_type": "execute_result"
    }
   ],
   "source": [
    "c5=generer_cellule(42)\n",
    "ajout(c1,c5)\n",
    "c6=generer_cellule(63)\n",
    "\n",
    "c6"
   ]
  },
  {
   "cell_type": "code",
   "execution_count": 20,
   "metadata": {},
   "outputs": [],
   "source": [
    "insertion(c5,c6,2)"
   ]
  },
  {
   "cell_type": "code",
   "execution_count": 26,
   "metadata": {},
   "outputs": [
    {
     "data": {
      "text/plain": [
       "{'succ': {'succ': {'succ': {'succ': {'succ': None, 'valeur': 32},\n",
       "    'valeur': 16},\n",
       "   'valeur': 8},\n",
       "  'valeur': 4},\n",
       " 'valeur': 42}"
      ]
     },
     "execution_count": 26,
     "metadata": {},
     "output_type": "execute_result"
    }
   ],
   "source": [
    "c5"
   ]
  },
  {
   "cell_type": "code",
   "execution_count": 201,
   "metadata": {},
   "outputs": [
    {
     "data": {
      "text/plain": [
       "{'succ': {'succ': {'succ': {'succ': None, 'valeur': 32}, 'valeur': 16},\n",
       "  'valeur': 8},\n",
       " 'valeur': 63}"
      ]
     },
     "execution_count": 201,
     "metadata": {},
     "output_type": "execute_result"
    }
   ],
   "source": [
    "c6"
   ]
  },
  {
   "cell_type": "code",
   "execution_count": 184,
   "metadata": {},
   "outputs": [
    {
     "data": {
      "text/plain": [
       "{'succ': {'succ': {'succ': {'succ': None, 'valeur': 32}, 'valeur': 16},\n",
       "  'valeur': 8},\n",
       " 'valeur': 4}"
      ]
     },
     "execution_count": 184,
     "metadata": {},
     "output_type": "execute_result"
    }
   ],
   "source": [
    "suppression(c5,1)"
   ]
  },
  {
   "cell_type": "code",
   "execution_count": 185,
   "metadata": {},
   "outputs": [
    {
     "data": {
      "text/plain": [
       "{'succ': {'succ': {'succ': {'succ': None, 'valeur': 32}, 'valeur': 16},\n",
       "  'valeur': 8},\n",
       " 'valeur': 42}"
      ]
     },
     "execution_count": 185,
     "metadata": {},
     "output_type": "execute_result"
    }
   ],
   "source": [
    "c5"
   ]
  },
  {
   "cell_type": "code",
   "execution_count": 170,
   "metadata": {},
   "outputs": [
    {
     "data": {
      "text/plain": [
       "{'succ': {'succ': {'succ': {'succ': {'succ': None, 'valeur': 32},\n",
       "    'valeur': 16},\n",
       "   'valeur': 8},\n",
       "  'valeur': 4},\n",
       " 'valeur': 42}"
      ]
     },
     "execution_count": 170,
     "metadata": {},
     "output_type": "execute_result"
    }
   ],
   "source": [
    "c5"
   ]
  },
  {
   "cell_type": "code",
   "execution_count": 22,
   "metadata": {},
   "outputs": [],
   "source": [
    "val=recherche(c5,63)"
   ]
  },
  {
   "cell_type": "raw",
   "metadata": {},
   "source": []
  },
  {
   "cell_type": "code",
   "execution_count": 23,
   "metadata": {},
   "outputs": [
    {
     "name": "stdout",
     "output_type": "stream",
     "text": [
      "(63, 2)\n"
     ]
    }
   ],
   "source": [
    "print(val)"
   ]
  },
  {
   "cell_type": "code",
   "execution_count": 24,
   "metadata": {},
   "outputs": [
    {
     "name": "stdout",
     "output_type": "stream",
     "text": [
      "42\n",
      "if: 63\n"
     ]
    },
    {
     "data": {
      "text/plain": [
       "(63,\n",
       " 2,\n",
       " {'succ': {'succ': {'succ': {'succ': {'succ': None, 'valeur': 32},\n",
       "     'valeur': 16},\n",
       "    'valeur': 8},\n",
       "   'valeur': 4},\n",
       "  'valeur': 42},\n",
       " {'succ': {'succ': {'succ': {'succ': {'succ': {'succ': None, 'valeur': 32},\n",
       "      'valeur': 16},\n",
       "     'valeur': 8},\n",
       "    'valeur': 4},\n",
       "   'valeur': 42},\n",
       "  'valeur': 32})"
      ]
     },
     "execution_count": 24,
     "metadata": {},
     "output_type": "execute_result"
    }
   ],
   "source": [
    "mini_tri(c5)"
   ]
  },
  {
   "cell_type": "code",
   "execution_count": 27,
   "metadata": {},
   "outputs": [
    {
     "data": {
      "text/plain": [
       "{'succ': {'succ': {'succ': {'succ': {'succ': None, 'valeur': 32},\n",
       "    'valeur': 16},\n",
       "   'valeur': 8},\n",
       "  'valeur': 4},\n",
       " 'valeur': 42}"
      ]
     },
     "execution_count": 27,
     "metadata": {},
     "output_type": "execute_result"
    }
   ],
   "source": [
    "c5"
   ]
  },
  {
   "cell_type": "code",
   "execution_count": 28,
   "metadata": {},
   "outputs": [
    {
     "data": {
      "text/plain": [
       "{'succ': {'succ': {'succ': {'succ': {'succ': {'succ': {'succ': {'succ': {'succ': None,\n",
       "         'valeur': 32},\n",
       "        'valeur': 16},\n",
       "       'valeur': 8},\n",
       "      'valeur': 4},\n",
       "     'valeur': 42},\n",
       "    'valeur': 32},\n",
       "   'valeur': 16},\n",
       "  'valeur': 8},\n",
       " 'valeur': 63}"
      ]
     },
     "execution_count": 28,
     "metadata": {},
     "output_type": "execute_result"
    }
   ],
   "source": [
    "c6"
   ]
  },
  {
   "cell_type": "code",
   "execution_count": 29,
   "metadata": {},
   "outputs": [
    {
     "name": "stdout",
     "output_type": "stream",
     "text": [
      "63\n"
     ]
    },
    {
     "data": {
      "text/plain": [
       "(63,\n",
       " 0,\n",
       " {'succ': {'succ': {'succ': {'succ': {'succ': {'succ': {'succ': {'succ': {'succ': {...},\n",
       "          'valeur': 32},\n",
       "         'valeur': 16},\n",
       "        'valeur': 8},\n",
       "       'valeur': 4},\n",
       "      'valeur': 42},\n",
       "     'valeur': 32},\n",
       "    'valeur': 16},\n",
       "   'valeur': 8},\n",
       "  'valeur': 63},\n",
       " {'succ': {'succ': {'succ': {'succ': {'succ': {'succ': {'succ': {'succ': {'succ': {...},\n",
       "          'valeur': 16},\n",
       "         'valeur': 8},\n",
       "        'valeur': 4},\n",
       "       'valeur': 42},\n",
       "      'valeur': 32},\n",
       "     'valeur': 16},\n",
       "    'valeur': 8},\n",
       "   'valeur': 63},\n",
       "  'valeur': 32})"
      ]
     },
     "execution_count": 29,
     "metadata": {},
     "output_type": "execute_result"
    }
   ],
   "source": [
    "mini_tri(c6)"
   ]
  },
  {
   "cell_type": "code",
   "execution_count": 30,
   "metadata": {},
   "outputs": [
    {
     "data": {
      "text/plain": [
       "{'succ': {'succ': {'succ': {'succ': {'succ': {'succ': {'succ': {'succ': {'succ': {...},\n",
       "         'valeur': 32},\n",
       "        'valeur': 16},\n",
       "       'valeur': 8},\n",
       "      'valeur': 4},\n",
       "     'valeur': 42},\n",
       "    'valeur': 32},\n",
       "   'valeur': 16},\n",
       "  'valeur': 8},\n",
       " 'valeur': 63}"
      ]
     },
     "execution_count": 30,
     "metadata": {},
     "output_type": "execute_result"
    }
   ],
   "source": [
    "c6"
   ]
  },
  {
   "cell_type": "code",
   "execution_count": 34,
   "metadata": {},
   "outputs": [
    {
     "data": {
      "text/plain": [
       "{'succ': {'succ': {'succ': {'succ': None, 'valeur': 16}, 'valeur': 8},\n",
       "  'valeur': 32},\n",
       " 'valeur': 16}"
      ]
     },
     "execution_count": 34,
     "metadata": {},
     "output_type": "execute_result"
    }
   ],
   "source": [
    "c3"
   ]
  },
  {
   "cell_type": "code",
   "execution_count": 35,
   "metadata": {},
   "outputs": [
    {
     "name": "stdout",
     "output_type": "stream",
     "text": [
      "16\n",
      "if: 32\n"
     ]
    },
    {
     "data": {
      "text/plain": [
       "(32,\n",
       " 1,\n",
       " {'succ': {'succ': {'succ': None, 'valeur': 16}, 'valeur': 8}, 'valeur': 16},\n",
       " {'succ': {'succ': {'succ': {'succ': None, 'valeur': 16}, 'valeur': 8},\n",
       "   'valeur': 16},\n",
       "  'valeur': 16})"
      ]
     },
     "execution_count": 35,
     "metadata": {},
     "output_type": "execute_result"
    }
   ],
   "source": [
    "mini_tri(c3)"
   ]
  },
  {
   "cell_type": "code",
   "execution_count": 36,
   "metadata": {},
   "outputs": [
    {
     "data": {
      "text/plain": [
       "{'succ': {'succ': {'succ': None, 'valeur': 16}, 'valeur': 8}, 'valeur': 16}"
      ]
     },
     "execution_count": 36,
     "metadata": {},
     "output_type": "execute_result"
    }
   ],
   "source": [
    "c3"
   ]
  },
  {
   "cell_type": "code",
   "execution_count": 175,
   "metadata": {},
   "outputs": [
    {
     "data": {
      "text/plain": [
       "{'succ': {'succ': None, 'valeur': 32}, 'valeur': 16}"
      ]
     },
     "execution_count": 175,
     "metadata": {},
     "output_type": "execute_result"
    }
   ],
   "source": [
    "c2"
   ]
  },
  {
   "cell_type": "code",
   "execution_count": null,
   "metadata": {},
   "outputs": [],
   "source": []
  }
 ],
 "metadata": {
  "kernelspec": {
   "display_name": "Python 3",
   "language": "python",
   "name": "python3"
  },
  "language_info": {
   "codemirror_mode": {
    "name": "ipython",
    "version": 3
   },
   "file_extension": ".py",
   "mimetype": "text/x-python",
   "name": "python",
   "nbconvert_exporter": "python",
   "pygments_lexer": "ipython3",
   "version": "3.6.6"
  }
 },
 "nbformat": 4,
 "nbformat_minor": 2
}
