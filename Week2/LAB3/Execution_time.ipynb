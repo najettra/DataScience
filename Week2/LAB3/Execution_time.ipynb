{
 "cells": [
  {
   "cell_type": "code",
   "execution_count": 31,
   "metadata": {},
   "outputs": [],
   "source": [
    "import math\n",
    "import time "
   ]
  },
  {
   "cell_type": "code",
   "execution_count": 54,
   "metadata": {},
   "outputs": [],
   "source": [
    "def fonction1(n):\n",
    "    \n",
    "    t = []\n",
    "    for i in range(n+1):\n",
    "        for j in range(n+1):\n",
    "            if i**2 + j**2 == n:\n",
    "                t.append((i,j))\n",
    "    \n",
    "    return t, f,d"
   ]
  },
  {
   "cell_type": "code",
   "execution_count": 62,
   "metadata": {},
   "outputs": [
    {
     "name": "stdout",
     "output_type": "stream",
     "text": [
      "3.8637382984161377\n"
     ]
    }
   ],
   "source": [
    "d = time.time()\n",
    "fonction1(2555)\n",
    "f = time.time()\n",
    "print(f - d)"
   ]
  },
  {
   "cell_type": "code",
   "execution_count": 10,
   "metadata": {},
   "outputs": [],
   "source": [
    "def fonction2(n):\n",
    "    t = []\n",
    "    for i in range(n+1):\n",
    "        for j in range(0,i+1) :\n",
    "            if i**2 + j**2 == n:\n",
    "                t.append((i,j))\n",
    "    return t"
   ]
  },
  {
   "cell_type": "code",
   "execution_count": 66,
   "metadata": {},
   "outputs": [
    {
     "name": "stdout",
     "output_type": "stream",
     "text": [
      "1.9813206195831299\n"
     ]
    }
   ],
   "source": [
    "d = time.time()\n",
    "fonction2(2555)\n",
    "f = time.time()\n",
    "print(f-d)"
   ]
  },
  {
   "cell_type": "code",
   "execution_count": 13,
   "metadata": {},
   "outputs": [],
   "source": [
    "def fonction3(n):\n",
    "    t = []\n",
    "    N = math.floor(math.sqrt(n))\n",
    "    for i in range(N+1):\n",
    "        for j in range(0,i+1) :\n",
    "            if i**2 + j**2 == n:\n",
    "                t.append((i,j))\n",
    "    return t"
   ]
  },
  {
   "cell_type": "code",
   "execution_count": 21,
   "metadata": {},
   "outputs": [
    {
     "data": {
      "text/plain": [
       "[(4, 3), (5, 0)]"
      ]
     },
     "execution_count": 21,
     "metadata": {},
     "output_type": "execute_result"
    }
   ],
   "source": [
    "fonction3(25)"
   ]
  },
  {
   "cell_type": "code",
   "execution_count": 68,
   "metadata": {},
   "outputs": [
    {
     "name": "stdout",
     "output_type": "stream",
     "text": [
      "0.004704713821411133\n"
     ]
    }
   ],
   "source": [
    "d = time.time()\n",
    "fonction3(2555)\n",
    "f = time.time()\n",
    "print(f-d)"
   ]
  },
  {
   "cell_type": "code",
   "execution_count": 74,
   "metadata": {},
   "outputs": [],
   "source": [
    "val = [25, 255, 2555]\n",
    "f1=[]\n",
    "f2=[]\n",
    "f3=[]\n",
    "for n in val:\n",
    "\n",
    "#temps de calcul pour fonction1 pour #n\n",
    "    d = time.time()\n",
    "    fonction1(n)\n",
    "    f = time.time()\n",
    "    f1.append(f-d)\n",
    "    \n",
    "#temps de calcul pour fonction2 pour #n\n",
    "    d = time.time()\n",
    "    fonction2(n)\n",
    "    f = time.time()\n",
    "    f2.append(f-d)\n",
    "    \n",
    "#temps de calcul pour fonction3 pour #n\n",
    "    d = time.time()\n",
    "    fonction3(n)\n",
    "    f = time.time()\n",
    "    f3.append(f-d)"
   ]
  },
  {
   "cell_type": "code",
   "execution_count": 86,
   "metadata": {},
   "outputs": [
    {
     "name": "stdout",
     "output_type": "stream",
     "text": [
      "rapport f1 et f2 pour n= 25 est: 1.8575892857142857\n",
      "rapport f2 et f3 pour n= 25 est: 10.821256038647343\n",
      "rapport f1 et f2 pour n= 255 est: 3.0330280263380045\n",
      "rapport f2 et f3 pour n= 255 est: 236.92\n",
      "rapport f1 et f2 pour n= 2555 est: 2.0378520165708567\n",
      "rapport f2 et f3 pour n= 2555 est: 2627.2542372881358\n"
     ]
    }
   ],
   "source": [
    "for i in range(len(val)):\n",
    "    print('rapport f1 et f2 pour n=',val[i],'est:',f1[i]/f2[i])\n",
    "    print('rapport f2 et f3 pour n=',val[i],'est:',f2[i]/f3[i])"
   ]
  },
  {
   "cell_type": "code",
   "execution_count": 82,
   "metadata": {},
   "outputs": [
    {
     "data": {
      "text/plain": [
       "3"
      ]
     },
     "execution_count": 82,
     "metadata": {},
     "output_type": "execute_result"
    }
   ],
   "source": [
    "len(val)"
   ]
  },
  {
   "cell_type": "code",
   "execution_count": 120,
   "metadata": {},
   "outputs": [],
   "source": [
    "def fonction4(n):\n",
    "    t = []\n",
    "    N = math.floor(math.sqrt(n))\n",
    "    j = 0\n",
    "    for i in range(N+1):\n",
    "        \n",
    "        j = math.sqrt(n-i**2)\n",
    "        if j== math.floor(j):\n",
    "            t.append((i,int(j)))\n",
    "        \n",
    "\n",
    "    return t"
   ]
  },
  {
   "cell_type": "code",
   "execution_count": 121,
   "metadata": {},
   "outputs": [
    {
     "data": {
      "text/plain": [
       "[(0, 5), (3, 4), (4, 3), (5, 0)]"
      ]
     },
     "execution_count": 121,
     "metadata": {},
     "output_type": "execute_result"
    }
   ],
   "source": [
    "fonction4(25)"
   ]
  },
  {
   "cell_type": "code",
   "execution_count": 122,
   "metadata": {},
   "outputs": [
    {
     "name": "stdout",
     "output_type": "stream",
     "text": [
      "0.0001735687255859375\n"
     ]
    }
   ],
   "source": [
    "d = time.time()\n",
    "fonction4(2555)\n",
    "f = time.time()\n",
    "print(f-d)"
   ]
  },
  {
   "cell_type": "code",
   "execution_count": null,
   "metadata": {},
   "outputs": [],
   "source": []
  }
 ],
 "metadata": {
  "kernelspec": {
   "display_name": "Python 3",
   "language": "python",
   "name": "python3"
  },
  "language_info": {
   "codemirror_mode": {
    "name": "ipython",
    "version": 3
   },
   "file_extension": ".py",
   "mimetype": "text/x-python",
   "name": "python",
   "nbconvert_exporter": "python",
   "pygments_lexer": "ipython3",
   "version": "3.6.6"
  }
 },
 "nbformat": 4,
 "nbformat_minor": 2
}
