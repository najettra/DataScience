{
 "cells": [
  {
   "cell_type": "code",
   "execution_count": 20,
   "metadata": {},
   "outputs": [],
   "source": [
    "import math\n",
    "from random import choice"
   ]
  },
  {
   "cell_type": "code",
   "execution_count": 194,
   "metadata": {},
   "outputs": [],
   "source": [
    "class Arbre():\n",
    "    \n",
    "    #def __init__(self,cle,g,d):\n",
    "        #self.noued={'cle':cle, 'gauche':g, 'droite':d}\n",
    "        \n",
    "    \n",
    "    def Generer_Noeud(self,cle):\n",
    "        #return self.noued\n",
    "        return  {'cle':cle, 'gauche':None, 'droite':None}\n",
    "\n",
    "    def Ajouter_Noeud_Aléa(self, nouveau_noeud, Noeud=None):\n",
    "        d=['gauche','droite']\n",
    "        pos=choice(d)\n",
    "        if pos=='gauche':\n",
    "            pos1='droite'\n",
    "        else:\n",
    "            pos1='gauche'\n",
    "            \n",
    "        print(pos)\n",
    "        \n",
    "        if nouveau_noeud[pos] is None:\n",
    "            nouveau_noeud[pos]=Noeud\n",
    "            return nouveau_noeud\n",
    "        if nouveau_noeud[pos1] is None:\n",
    "            nouveau_noeud[pos1]=Noeud\n",
    "            return nouveau_noeud\n",
    "        \n",
    "        elif nouveau_noeud[pos] is not None and nouveau_noeud[pos1] is not None :\n",
    "            return self.Ajouter_Noeud_Aléa(nouveau_noeud[pos],Noeud)\n",
    "    \n",
    "    def Rechercher_Cle(self, cle , Noeud):\n",
    "        #print(Noeud['cle'])\n",
    "        if Noeud['cle'] == cle:\n",
    "            print('cle trouve:',cle)\n",
    "            return Noeud\n",
    "        \n",
    "        if Noeud['gauche'] is not None:\n",
    "            #print('noeud gauche is not None')\n",
    "            self.Rechercher_Cle(cle,Noeud['gauche'])\n",
    "            \n",
    "        if Noeud['droite'] is not None:\n",
    "            #print('noeud droite is not None')\n",
    "            self.Rechercher_Cle(cle,Noeud['droite'])\n",
    "    \n",
    "        #if Noeud['gauche'] is None and  Noeud['droite'] is None:\n",
    "            #print('cle n\\'existe pas:',cle)\n",
    "            #return None\n",
    "   \n",
    "    "
   ]
  },
  {
   "cell_type": "code",
   "execution_count": 195,
   "metadata": {},
   "outputs": [],
   "source": [
    "a=Arbre()"
   ]
  },
  {
   "cell_type": "code",
   "execution_count": null,
   "metadata": {},
   "outputs": [],
   "source": []
  },
  {
   "cell_type": "code",
   "execution_count": 196,
   "metadata": {},
   "outputs": [],
   "source": [
    "n1=a.Generer_Noeud(1)"
   ]
  },
  {
   "cell_type": "code",
   "execution_count": 197,
   "metadata": {},
   "outputs": [
    {
     "data": {
      "text/plain": [
       "{'cle': 3, 'droite': None, 'gauche': None}"
      ]
     },
     "execution_count": 197,
     "metadata": {},
     "output_type": "execute_result"
    }
   ],
   "source": [
    "n2=a.Generer_Noeud(2)\n",
    "n3=a.Generer_Noeud(3)\n",
    "n4=a.Generer_Noeud(4)\n",
    "n3"
   ]
  },
  {
   "cell_type": "code",
   "execution_count": 198,
   "metadata": {},
   "outputs": [
    {
     "name": "stdout",
     "output_type": "stream",
     "text": [
      "{'cle': 1, 'droite': None, 'gauche': None}\n",
      "{'cle': 2, 'droite': None, 'gauche': None}\n",
      "{'cle': 3, 'droite': None, 'gauche': None}\n",
      "{'cle': 4, 'droite': None, 'gauche': None}\n",
      "gauche\n",
      "{'cle': 1, 'droite': None, 'gauche': {'cle': 2, 'droite': None, 'gauche': None}}\n",
      "droite\n",
      "{'cle': 1, 'droite': {'cle': 3, 'droite': None, 'gauche': None}, 'gauche': {'cle': 2, 'droite': None, 'gauche': None}}\n",
      "droite\n",
      "gauche\n",
      "{'cle': 3, 'droite': None, 'gauche': {'cle': 4, 'droite': None, 'gauche': None}}\n"
     ]
    }
   ],
   "source": [
    "print(n1)\n",
    "print(n2)\n",
    "print(n3)\n",
    "print(n4)\n",
    "print(a.Ajouter_Noeud_Aléa(n1,n2))\n",
    "print(a.Ajouter_Noeud_Aléa(n1,n3))\n",
    "print(a.Ajouter_Noeud_Aléa(n1,n4))"
   ]
  },
  {
   "cell_type": "code",
   "execution_count": null,
   "metadata": {},
   "outputs": [],
   "source": []
  },
  {
   "cell_type": "code",
   "execution_count": 199,
   "metadata": {},
   "outputs": [
    {
     "data": {
      "text/plain": [
       "True"
      ]
     },
     "execution_count": 199,
     "metadata": {},
     "output_type": "execute_result"
    }
   ],
   "source": [
    "type(n3['gauche'])\n",
    "n2['gauche'] is None\n",
    "    "
   ]
  },
  {
   "cell_type": "code",
   "execution_count": 200,
   "metadata": {},
   "outputs": [
    {
     "data": {
      "text/plain": [
       "{'cle': 1,\n",
       " 'droite': {'cle': 3,\n",
       "  'droite': None,\n",
       "  'gauche': {'cle': 4, 'droite': None, 'gauche': None}},\n",
       " 'gauche': {'cle': 2, 'droite': None, 'gauche': None}}"
      ]
     },
     "execution_count": 200,
     "metadata": {},
     "output_type": "execute_result"
    }
   ],
   "source": [
    "n1"
   ]
  },
  {
   "cell_type": "code",
   "execution_count": 201,
   "metadata": {},
   "outputs": [
    {
     "name": "stdout",
     "output_type": "stream",
     "text": [
      "cle trouve: 3\n"
     ]
    }
   ],
   "source": [
    "a.Rechercher_Cle(3,n1)"
   ]
  },
  {
   "cell_type": "code",
   "execution_count": null,
   "metadata": {},
   "outputs": [],
   "source": []
  },
  {
   "cell_type": "code",
   "execution_count": null,
   "metadata": {},
   "outputs": [],
   "source": []
  }
 ],
 "metadata": {
  "kernelspec": {
   "display_name": "Python 3",
   "language": "python",
   "name": "python3"
  },
  "language_info": {
   "codemirror_mode": {
    "name": "ipython",
    "version": 3
   },
   "file_extension": ".py",
   "mimetype": "text/x-python",
   "name": "python",
   "nbconvert_exporter": "python",
   "pygments_lexer": "ipython3",
   "version": "3.5.2"
  }
 },
 "nbformat": 4,
 "nbformat_minor": 2
}
