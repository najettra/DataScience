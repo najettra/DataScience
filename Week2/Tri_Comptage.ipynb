{
 "cells": [
  {
   "cell_type": "code",
   "execution_count": 2,
   "metadata": {},
   "outputs": [],
   "source": [
    "import math as re"
   ]
  },
  {
   "cell_type": "code",
   "execution_count": 10,
   "metadata": {},
   "outputs": [],
   "source": [
    "def comptage(t):\n",
    "    index=[]\n",
    "    tf = []\n",
    "\n",
    "    for i in range(0,len(t)):\n",
    "        c = 0\n",
    "        \n",
    "        for j in range(0,len(t)):\n",
    "            #print(i,j)\n",
    "            if t[i] > t[j]:\n",
    "                c+=1\n",
    "                         \n",
    "        #print(c)\n",
    "        index.insert(i,c)\n",
    "\n",
    "    \n",
    "        tf.insert(index[i],t[i])\n",
    "        \n",
    "    return tf\n",
    "\n"
   ]
  },
  {
   "cell_type": "code",
   "execution_count": 11,
   "metadata": {},
   "outputs": [],
   "source": [
    "t=[9,12,3,15,6,15,44]"
   ]
  },
  {
   "cell_type": "code",
   "execution_count": 12,
   "metadata": {},
   "outputs": [
    {
     "data": {
      "text/plain": [
       "[3, 6, 9, 12, 15, 15, 44]"
      ]
     },
     "execution_count": 12,
     "metadata": {},
     "output_type": "execute_result"
    }
   ],
   "source": [
    "comptage(t)"
   ]
  },
  {
   "cell_type": "code",
   "execution_count": null,
   "metadata": {},
   "outputs": [],
   "source": []
  },
  {
   "cell_type": "code",
   "execution_count": null,
   "metadata": {},
   "outputs": [],
   "source": []
  },
  {
   "cell_type": "code",
   "execution_count": 13,
   "metadata": {},
   "outputs": [],
   "source": [
    "def comptage1(t):\n",
    "    index=t[:]\n",
    "    tf=t[:]\n",
    "    for i in range(0,len(t)):\n",
    "        c = 0\n",
    "        for j in range(0,len(t)):\n",
    "            #print(i,j)\n",
    "            if t[i] >= t[j]:\n",
    "                c+=1\n",
    "        \n",
    "        index[i]= c-1               \n",
    "        #print(c)\n",
    "        #index.insert(i,c-1)\n",
    "        tf[index[i]]=t[i]\n",
    "    #print(index)    \n",
    "    return tf"
   ]
  },
  {
   "cell_type": "code",
   "execution_count": 14,
   "metadata": {},
   "outputs": [
    {
     "data": {
      "text/plain": [
       "[3, 6, 9, 12, 6, 15, 44]"
      ]
     },
     "execution_count": 14,
     "metadata": {},
     "output_type": "execute_result"
    }
   ],
   "source": [
    "comptage1(t)"
   ]
  }
 ],
 "metadata": {
  "kernelspec": {
   "display_name": "Python 3",
   "language": "python",
   "name": "python3"
  },
  "language_info": {
   "codemirror_mode": {
    "name": "ipython",
    "version": 3
   },
   "file_extension": ".py",
   "mimetype": "text/x-python",
   "name": "python",
   "nbconvert_exporter": "python",
   "pygments_lexer": "ipython3",
   "version": "3.6.6"
  }
 },
 "nbformat": 4,
 "nbformat_minor": 2
}
