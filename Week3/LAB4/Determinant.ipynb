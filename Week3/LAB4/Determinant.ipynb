{
 "cells": [
  {
   "cell_type": "code",
   "execution_count": 1,
   "metadata": {},
   "outputs": [],
   "source": [
    "import numpy as np"
   ]
  },
  {
   "cell_type": "code",
   "execution_count": 64,
   "metadata": {},
   "outputs": [],
   "source": [
    "def determinant(A,n):\n",
    "    d = 0\n",
    "  \n",
    "    if n==1:\n",
    "        return A[0][0]\n",
    "    if n==2:\n",
    "        d=A[0][0]*A[1][1]-A[0][1]*A[1][0]\n",
    "        #print(d)\n",
    "        return d\n",
    "    else:\n",
    "        i=0\n",
    "        Cij = [0 for k in range(n)]\n",
    "        for j in range(n):\n",
    "            B = [\n",
    "            [A[k][l] for l in range(n) if l != j]\n",
    "            for k in range(n) if k != i\n",
    "            ]\n",
    "        \n",
    "            Cij[j]=(-1)**(i+j)*determinant(B,n-1)\n",
    "            #print(Cij)\n",
    "            \n",
    "        for j in range(n):\n",
    "            d+=A[0][j]*Cij[j]\n",
    "            #print(A[0][j])\n",
    "        return d"
   ]
  },
  {
   "cell_type": "code",
   "execution_count": 65,
   "metadata": {},
   "outputs": [
    {
     "data": {
      "text/plain": [
       "-30"
      ]
     },
     "execution_count": 65,
     "metadata": {},
     "output_type": "execute_result"
    }
   ],
   "source": [
    "A = [[1,-2,-5],[2,1,5],[7,0,1]]\n",
    "determinant(A,3)"
   ]
  },
  {
   "cell_type": "code",
   "execution_count": 66,
   "metadata": {},
   "outputs": [],
   "source": [
    "B = [[4,5,14],[1,11,23],[0,2,-5]]"
   ]
  },
  {
   "cell_type": "code",
   "execution_count": 67,
   "metadata": {},
   "outputs": [
    {
     "data": {
      "text/plain": [
       "-351"
      ]
     },
     "execution_count": 67,
     "metadata": {},
     "output_type": "execute_result"
    }
   ],
   "source": [
    "determinant(B,3)"
   ]
  },
  {
   "cell_type": "code",
   "execution_count": 68,
   "metadata": {},
   "outputs": [],
   "source": [
    "C = [[1,1,1,1],[1,1,-1,-1],[1,-1,1,-1],[1,-1,-1,-1]]"
   ]
  },
  {
   "cell_type": "code",
   "execution_count": 69,
   "metadata": {},
   "outputs": [
    {
     "data": {
      "text/plain": [
       "-8"
      ]
     },
     "execution_count": 69,
     "metadata": {},
     "output_type": "execute_result"
    }
   ],
   "source": [
    "determinant(C,4)"
   ]
  },
  {
   "cell_type": "code",
   "execution_count": 72,
   "metadata": {},
   "outputs": [],
   "source": [
    "D=[[0.5, 0.0, 0.0, 0.5],[0.0, 0.5, 0.0, -0.5],[0.0, 0.0, 0.5, -0.5],[0.5, -0.5, -0.5, 0.5]]"
   ]
  },
  {
   "cell_type": "code",
   "execution_count": 73,
   "metadata": {},
   "outputs": [
    {
     "data": {
      "text/plain": [
       "-0.125"
      ]
     },
     "execution_count": 73,
     "metadata": {},
     "output_type": "execute_result"
    }
   ],
   "source": [
    "determinant(D,4)"
   ]
  },
  {
   "cell_type": "code",
   "execution_count": null,
   "metadata": {},
   "outputs": [],
   "source": []
  },
  {
   "cell_type": "code",
   "execution_count": null,
   "metadata": {},
   "outputs": [],
   "source": []
  }
 ],
 "metadata": {
  "kernelspec": {
   "display_name": "Python 3",
   "language": "python",
   "name": "python3"
  },
  "language_info": {
   "codemirror_mode": {
    "name": "ipython",
    "version": 3
   },
   "file_extension": ".py",
   "mimetype": "text/x-python",
   "name": "python",
   "nbconvert_exporter": "python",
   "pygments_lexer": "ipython3",
   "version": "3.6.6"
  }
 },
 "nbformat": 4,
 "nbformat_minor": 2
}
