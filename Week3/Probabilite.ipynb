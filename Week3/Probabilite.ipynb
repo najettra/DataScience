{
 "cells": [
  {
   "cell_type": "code",
   "execution_count": 1,
   "metadata": {},
   "outputs": [],
   "source": [
    "import random\n",
    "import matplotlib.pyplot as pl\n",
    "import math\n",
    "import time as t\n",
    "import numpy.random as np"
   ]
  },
  {
   "cell_type": "code",
   "execution_count": 2,
   "metadata": {},
   "outputs": [],
   "source": [
    "def prob(n):\n",
    "    p=random.randint(0,n-1)\n",
    "    return p\n",
    "\n",
    "def cnp(n,p):\n",
    "    return (math.factorial(n)/(math.factorial(n-p)*math.factorial(p)))"
   ]
  },
  {
   "cell_type": "code",
   "execution_count": null,
   "metadata": {},
   "outputs": [],
   "source": []
  },
  {
   "cell_type": "code",
   "execution_count": 3,
   "metadata": {},
   "outputs": [
    {
     "data": {
      "text/plain": [
       "3"
      ]
     },
     "execution_count": 3,
     "metadata": {},
     "output_type": "execute_result"
    }
   ],
   "source": [
    "random.randint(0,3)"
   ]
  },
  {
   "cell_type": "code",
   "execution_count": 4,
   "metadata": {},
   "outputs": [],
   "source": [
    "l=[]\n",
    "for i in range(0,1000):\n",
    "    l.append(prob(10))\n",
    "    "
   ]
  },
  {
   "cell_type": "code",
   "execution_count": 5,
   "metadata": {},
   "outputs": [],
   "source": [
    "count=[]\n",
    "for i in range(0,10):\n",
    "    count.append(l.count(i)/1000)\n",
    "    "
   ]
  },
  {
   "cell_type": "code",
   "execution_count": 6,
   "metadata": {},
   "outputs": [
    {
     "data": {
      "text/plain": [
       "[0.096, 0.098, 0.103, 0.113, 0.079, 0.101, 0.085, 0.106, 0.098, 0.121]"
      ]
     },
     "execution_count": 6,
     "metadata": {},
     "output_type": "execute_result"
    }
   ],
   "source": [
    "count"
   ]
  },
  {
   "cell_type": "code",
   "execution_count": 7,
   "metadata": {},
   "outputs": [
    {
     "data": {
      "text/plain": [
       "(array([1., 1., 0., 0., 3., 2., 1., 0., 1., 1.]),\n",
       " array([0.079 , 0.0832, 0.0874, 0.0916, 0.0958, 0.1   , 0.1042, 0.1084,\n",
       "        0.1126, 0.1168, 0.121 ]),\n",
       " <a list of 10 Patch objects>)"
      ]
     },
     "execution_count": 7,
     "metadata": {},
     "output_type": "execute_result"
    },
    {
     "data": {
      "image/png": "[encoded data removed]",
      "text/plain": [
       "<Figure size 432x288 with 1 Axes>"
      ]
     },
     "metadata": {},
     "output_type": "display_data"
    }
   ],
   "source": [
    "pl.hist(count)"
   ]
  },
  {
   "cell_type": "code",
   "execution_count": null,
   "metadata": {},
   "outputs": [],
   "source": []
  },
  {
   "cell_type": "code",
   "execution_count": 8,
   "metadata": {},
   "outputs": [
    {
     "name": "stdout",
     "output_type": "stream",
     "text": [
      "0.0014584064483642578\n"
     ]
    }
   ],
   "source": [
    "d=t.time()\n",
    "cnp(1000,500)\n",
    "f=t.time()\n",
    "print(f-d)"
   ]
  },
  {
   "cell_type": "code",
   "execution_count": 12,
   "metadata": {},
   "outputs": [],
   "source": [
    "l=[]\n",
    "liste=[]\n",
    "c=0\n",
    "for i in range(0,100):\n",
    "    c=0\n",
    "    for j in range(0,50):\n",
    "        val=prob(6)\n",
    "        l.append(prob(6))\n",
    "        if val < 2 :\n",
    "            c+=1\n",
    "    liste.append(c)\n"
   ]
  },
  {
   "cell_type": "code",
   "execution_count": 13,
   "metadata": {},
   "outputs": [
    {
     "data": {
      "text/plain": [
       "[17,\n",
       " 19,\n",
       " 13,\n",
       " 18,\n",
       " 20,\n",
       " 17,\n",
       " 15,\n",
       " 14,\n",
       " 18,\n",
       " 20,\n",
       " 16,\n",
       " 18,\n",
       " 18,\n",
       " 15,\n",
       " 22,\n",
       " 14,\n",
       " 18,\n",
       " 14,\n",
       " 13,\n",
       " 18,\n",
       " 13,\n",
       " 18,\n",
       " 18,\n",
       " 11,\n",
       " 14,\n",
       " 13,\n",
       " 19,\n",
       " 20,\n",
       " 15,\n",
       " 15,\n",
       " 15,\n",
       " 10,\n",
       " 16,\n",
       " 18,\n",
       " 13,\n",
       " 19,\n",
       " 19,\n",
       " 20,\n",
       " 19,\n",
       " 12,\n",
       " 18,\n",
       " 18,\n",
       " 14,\n",
       " 13,\n",
       " 22,\n",
       " 14,\n",
       " 23,\n",
       " 11,\n",
       " 15,\n",
       " 15,\n",
       " 14,\n",
       " 21,\n",
       " 19,\n",
       " 20,\n",
       " 14,\n",
       " 16,\n",
       " 20,\n",
       " 16,\n",
       " 14,\n",
       " 17,\n",
       " 13,\n",
       " 18,\n",
       " 16,\n",
       " 17,\n",
       " 17,\n",
       " 16,\n",
       " 20,\n",
       " 12,\n",
       " 13,\n",
       " 16,\n",
       " 20,\n",
       " 14,\n",
       " 16,\n",
       " 15,\n",
       " 19,\n",
       " 20,\n",
       " 19,\n",
       " 16,\n",
       " 20,\n",
       " 18,\n",
       " 18,\n",
       " 16,\n",
       " 16,\n",
       " 10,\n",
       " 24,\n",
       " 16,\n",
       " 21,\n",
       " 14,\n",
       " 17,\n",
       " 18,\n",
       " 17,\n",
       " 12,\n",
       " 16,\n",
       " 11,\n",
       " 17,\n",
       " 24,\n",
       " 21,\n",
       " 17,\n",
       " 14,\n",
       " 17]"
      ]
     },
     "execution_count": 13,
     "metadata": {},
     "output_type": "execute_result"
    }
   ],
   "source": [
    "liste\n",
    "    "
   ]
  },
  {
   "cell_type": "code",
   "execution_count": 14,
   "metadata": {},
   "outputs": [],
   "source": [
    "r=liste.count(13)"
   ]
  },
  {
   "cell_type": "code",
   "execution_count": 15,
   "metadata": {},
   "outputs": [
    {
     "data": {
      "text/plain": [
       "0.08"
      ]
     },
     "execution_count": 15,
     "metadata": {},
     "output_type": "execute_result"
    }
   ],
   "source": [
    "r/100"
   ]
  },
  {
   "cell_type": "code",
   "execution_count": 16,
   "metadata": {},
   "outputs": [],
   "source": [
    "n,p = 50, 1/3\n",
    "s=np.binomial(n,p,100)"
   ]
  },
  {
   "cell_type": "code",
   "execution_count": 17,
   "metadata": {},
   "outputs": [
    {
     "data": {
      "text/plain": [
       "0.05"
      ]
     },
     "execution_count": 17,
     "metadata": {},
     "output_type": "execute_result"
    }
   ],
   "source": [
    "list(s).count(13)/100"
   ]
  },
  {
   "cell_type": "code",
   "execution_count": 18,
   "metadata": {},
   "outputs": [
    {
     "data": {
      "text/plain": [
       "210.0"
      ]
     },
     "execution_count": 18,
     "metadata": {},
     "output_type": "execute_result"
    }
   ],
   "source": [
    "cnp(10,4)"
   ]
  }
 ],
 "metadata": {
  "kernelspec": {
   "display_name": "venv",
   "language": "python",
   "name": "venv"
  },
  "language_info": {
   "codemirror_mode": {
    "name": "ipython",
    "version": 3
   },
   "file_extension": ".py",
   "mimetype": "text/x-python",
   "name": "python",
   "nbconvert_exporter": "python",
   "pygments_lexer": "ipython3",
   "version": "3.5.2"
  }
 },
 "nbformat": 4,
 "nbformat_minor": 2
}
